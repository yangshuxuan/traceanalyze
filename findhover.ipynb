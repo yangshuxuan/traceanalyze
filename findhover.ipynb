{
  "nbformat": 4,
  "nbformat_minor": 0,
  "metadata": {
    "colab": {
      "name": "findhover.ipynb",
      "provenance": [],
      "collapsed_sections": [],
      "authorship_tag": "ABX9TyPRWSfRYzDfWaDHc2jpDAaY",
      "include_colab_link": true
    },
    "kernelspec": {
      "name": "python3",
      "display_name": "Python 3"
    }
  },
  "cells": [
    {
      "cell_type": "markdown",
      "metadata": {
        "id": "view-in-github",
        "colab_type": "text"
      },
      "source": [
        "<a href=\"https://colab.research.google.com/github/yangshuxuan/traceanalyze/blob/master/findhover.ipynb\" target=\"_parent\"><img src=\"https://colab.research.google.com/assets/colab-badge.svg\" alt=\"Open In Colab\"/></a>"
      ]
    },
    {
      "cell_type": "markdown",
      "metadata": {
        "id": "N5332K4elv_6",
        "colab_type": "text"
      },
      "source": [
        "# 引言\n",
        "本文档采用了三个方式试图清理掉轨迹的毛刺点。前两种方式是采用聚类，找到离群点并丢弃，分别是DBScan和Optics，注意KMeans等其他聚类方法一般来讲是不合适的，因为这些聚类一般针对球状聚簇比较有效，而轨迹显然不是球状的聚簇，这两种聚类简单有效，有很好的库支持，但是由于没有考虑到轨迹时间因素，有可能清理的时候激进导致合理的轨迹点被丢弃。\n",
        "\n",
        "---\n",
        "另外一种方式就是计算速度，这个考虑了时间，但是如果采样方式非常稀疏，有可能导致盘旋等情况下速度为0,这是一个值得注意的现象。\n"
      ]
    },
    {
      "cell_type": "markdown",
      "metadata": {
        "id": "xh36GstynNGg",
        "colab_type": "text"
      },
      "source": [
        "# 引入需要用到的库\n",
        "\n",
        "Next, import the libraries that we will use."
      ]
    },
    {
      "cell_type": "code",
      "metadata": {
        "id": "1UtAM9m-l14H",
        "colab_type": "code",
        "colab": {}
      },
      "source": [
        "import numpy as np\n",
        "import pandas as pd\n",
        "from sklearn import cluster, datasets, mixture\n",
        "from sklearn.neighbors import kneighbors_graph\n",
        "from sklearn.preprocessing import StandardScaler\n",
        "from itertools import cycle, islice\n",
        "\n",
        "import matplotlib.pyplot as plt\n",
        "import matplotlib.font_manager as fm\n",
        "\n"
      ],
      "execution_count": 673,
      "outputs": []
    },
    {
      "cell_type": "markdown",
      "metadata": {
        "id": "ciiWLS2jpQz9",
        "colab_type": "text"
      },
      "source": [
        "# 设置随机种子\n",
        "结果可重现"
      ]
    },
    {
      "cell_type": "code",
      "metadata": {
        "id": "1fYX8XvRpJmO",
        "colab_type": "code",
        "colab": {}
      },
      "source": [
        "np.random.seed(0)"
      ],
      "execution_count": 674,
      "outputs": []
    },
    {
      "cell_type": "markdown",
      "metadata": {
        "id": "MxlRv6TEppMV",
        "colab_type": "text"
      },
      "source": [
        "# 生成正常的轨迹点间隔值\n",
        "这里假设飞机以800Km/h的速度巡航，每分钟定位一次，因此每分钟的纬度和经度的各自增加大概为0.1。"
      ]
    },
    {
      "cell_type": "code",
      "metadata": {
        "id": "YfYRjR67nmjT",
        "colab_type": "code",
        "colab": {}
      },
      "source": [
        "normalMu, normalSigma = 0.1, 0.1 # 经纬度增量平均值和标准方差\n",
        "normalSampleNum = 500 #样本数\n",
        "normalIntervalSample = np.random.normal(normalMu, normalSigma, (normalSampleNum,2)) #同时生成经度和纬度的增量，因此是2"
      ],
      "execution_count": 675,
      "outputs": []
    },
    {
      "cell_type": "markdown",
      "metadata": {
        "id": "YQ5FZpwSrp6Q",
        "colab_type": "text"
      },
      "source": [
        "# 设置轨迹起点\n",
        "纬度在前，经度在后"
      ]
    },
    {
      "cell_type": "code",
      "metadata": {
        "id": "TAr20p84rzWv",
        "colab_type": "code",
        "colab": {}
      },
      "source": [
        "startPoint=[31.23, 121.47] #此处是China ShangHai"
      ],
      "execution_count": 676,
      "outputs": []
    },
    {
      "cell_type": "markdown",
      "metadata": {
        "id": "KSJhP6ROsI45",
        "colab_type": "text"
      },
      "source": [
        "# 生成正常轨迹\n",
        "此处沿axix=0累加，然后都加上起点的经纬度"
      ]
    },
    {
      "cell_type": "code",
      "metadata": {
        "id": "wfxLPy1An8Zg",
        "colab_type": "code",
        "colab": {}
      },
      "source": [
        "normalSample = normalIntervalSample.cumsum(0) + np.array(startPoint).reshape((1,2))"
      ],
      "execution_count": 677,
      "outputs": []
    },
    {
      "cell_type": "markdown",
      "metadata": {
        "id": "Cgn6cFPysjFs",
        "colab_type": "text"
      },
      "source": [
        "# 生成异常轨迹点间隔值\n",
        "类似于正常轨迹点间隔值的生成，但是方差较大，并且需要指定毛刺点的占比。"
      ]
    },
    {
      "cell_type": "code",
      "metadata": {
        "id": "xPGzLl-GoDbP",
        "colab_type": "code",
        "colab": {}
      },
      "source": [
        "abnormalMu, abnormalSigma = 0.1, 10.0 # mean and standard deviation\n",
        "abnormalSamplePercent = 0.01 #毛刺点在总体的占比\n",
        "abnormalSampleNum = int(normalSampleNum *  abnormalSamplePercent)\n",
        "abnormalIntervalSample = np.random.normal(abnormalMu, abnormalSigma, (abnormalSampleNum,2))"
      ],
      "execution_count": 678,
      "outputs": []
    },
    {
      "cell_type": "markdown",
      "metadata": {
        "id": "B-EpdjGfz4U8",
        "colab_type": "text"
      },
      "source": [
        "### 生成一个圈圈\n",
        "样本数是固定的50个,因为make_circles会生成正负样本，因此仅仅取前面一半"
      ]
    },
    {
      "cell_type": "code",
      "metadata": {
        "id": "on8ulEsnz3Ye",
        "colab_type": "code",
        "colab": {}
      },
      "source": [
        "circleSampleNum = 50\n",
        "noisy_moons = datasets.make_circles(circleSampleNum * 2,shuffle = False,factor=0.5,noise=0.01)\n",
        "X, y = noisy_moons\n",
        "X = X[:circleSampleNum]\n",
        "y = y[:circleSampleNum]\n",
        "b = np.random.randint(0,normalSampleNum - circleSampleNum,1)[0] ##设置了seed不好使，老是变\n"
      ],
      "execution_count": 679,
      "outputs": []
    },
    {
      "cell_type": "code",
      "metadata": {
        "id": "HPb8OXdfA5kM",
        "colab_type": "code",
        "colab": {}
      },
      "source": [
        "X = X + np.array([[-1.15,0]])"
      ],
      "execution_count": 680,
      "outputs": []
    },
    {
      "cell_type": "code",
      "metadata": {
        "id": "pdbh3rX377pD",
        "colab_type": "code",
        "colab": {}
      },
      "source": [
        "insertpointIndex = int(b) + circleSampleNum"
      ],
      "execution_count": 681,
      "outputs": []
    },
    {
      "cell_type": "code",
      "metadata": {
        "id": "oM1t-8pp2yH8",
        "colab_type": "code",
        "colab": {}
      },
      "source": [
        "normalSample= np.insert(normalSample,insertpointIndex, X+normalSample[insertpointIndex].reshape((1,2)), axis=0)\n",
        "normalSampleNum += circleSampleNum"
      ],
      "execution_count": 682,
      "outputs": []
    },
    {
      "cell_type": "code",
      "metadata": {
        "id": "RlF1yy5E6SNH",
        "colab_type": "code",
        "colab": {
          "base_uri": "https://localhost:8080/",
          "height": 35
        },
        "outputId": "ffe366dc-c222-40ff-90c2-5f300ffc8192"
      },
      "source": [
        "normalSample.shape"
      ],
      "execution_count": 683,
      "outputs": [
        {
          "output_type": "execute_result",
          "data": {
            "text/plain": [
              "(550, 2)"
            ]
          },
          "metadata": {
            "tags": []
          },
          "execution_count": 683
        }
      ]
    },
    {
      "cell_type": "markdown",
      "metadata": {
        "id": "slPCRmPdtvyl",
        "colab_type": "text"
      },
      "source": [
        "# 选择需要替换为毛刺点的正常轨迹的索引"
      ]
    },
    {
      "cell_type": "code",
      "metadata": {
        "id": "3kqI0NgtoKae",
        "colab_type": "code",
        "colab": {}
      },
      "source": [
        "normalSampleIndexArr = np.arange(1,normalSampleNum) #默认起点不是毛刺点，因此从1开始采样\n",
        "np.random.shuffle(normalSampleIndexArr) #随机打乱\n"
      ],
      "execution_count": 684,
      "outputs": []
    },
    {
      "cell_type": "markdown",
      "metadata": {
        "id": "rFtvw2WRvaTN",
        "colab_type": "text"
      },
      "source": [
        "# 将部分正常点替换为毛刺点"
      ]
    },
    {
      "cell_type": "code",
      "metadata": {
        "id": "QLfhXUmYoXxe",
        "colab_type": "code",
        "colab": {}
      },
      "source": [
        "normalSample[normalSampleIndexArr[0:abnormalSampleNum]] = normalSample[normalSampleIndexArr[0:abnormalSampleNum]-1]+abnormalIntervalSample"
      ],
      "execution_count": 685,
      "outputs": []
    },
    {
      "cell_type": "markdown",
      "metadata": {
        "id": "HouFvPBpvxpL",
        "colab_type": "text"
      },
      "source": [
        "# 转成DataFrame并画图展示"
      ]
    },
    {
      "cell_type": "code",
      "metadata": {
        "id": "AIM_DnNNoeGG",
        "colab_type": "code",
        "colab": {
          "base_uri": "https://localhost:8080/",
          "height": 624
        },
        "outputId": "88d9e863-e032-4050-8083-baecd3371cc8"
      },
      "source": [
        "df = pd.DataFrame(normalSample,columns=['Lat', 'Long'])\n",
        "df.plot.line(x = 'Lat', y = 'Long',figsize=(20,10))"
      ],
      "execution_count": 686,
      "outputs": [
        {
          "output_type": "execute_result",
          "data": {
            "text/plain": [
              "<matplotlib.axes._subplots.AxesSubplot at 0x7fc6849ba3c8>"
            ]
          },
          "metadata": {
            "tags": []
          },
          "execution_count": 686
        },
        {
          "output_type": "display_data",
          "data": {
            "image/png": "[encoded data removed]",
            "text/plain": [
              "<Figure size 1440x720 with 1 Axes>"
            ]
          },
          "metadata": {
            "tags": [],
            "needs_background": "light"
          }
        }
      ]
    },
    {
      "cell_type": "markdown",
      "metadata": {
        "id": "jNmIEWeQBlvR",
        "colab_type": "text"
      },
      "source": [
        "# 使用目标合理的移动速度去毛刺\n",
        "\n",
        "\n",
        "1. 对于速度过低的点暂时认为合理的，因为目标在采样时间内有可能盘旋回来了，这时速度现有的方法计算的速度可能过低；\n",
        "2. 对于速度过高的点，可以认为是潜在不合理的，现有的计算方式是最短路径的方式，因此获得的速度应该低于实际速度，如果该速度高于合理值，那么显然是离群点；\n",
        "3. 假设离群点不太可能聚集在某处，因为离群点是随机噪音，不是bias，因此我们可以计算个点到各时间临近点的距离，然后除以间隔时间，获得速度；\n",
        "4. 不能随机选择邻近点，因为有可能毛刺会混入到先前的轨迹中。"
      ]
    },
    {
      "cell_type": "markdown",
      "metadata": {
        "id": "qBJ5u5UsI_Sh",
        "colab_type": "text"
      },
      "source": [
        "## 增加时间序列"
      ]
    },
    {
      "cell_type": "code",
      "metadata": {
        "id": "UESXgXJcKypT",
        "colab_type": "code",
        "colab": {}
      },
      "source": [
        "start = np.datetime64('2005-02-25T03:30')\n",
        "end = start + np.timedelta64(normalSampleNum,'m')\n",
        "timeColumn = np.arange(start, end, dtype='datetime64[m]').reshape((normalSampleNum,1)) #这个用法值得珍藏\n",
        "df2 = pd.DataFrame(timeColumn,columns=['timeStamp'])\n",
        "t = pd.concat([df2,df],axis=1)"
      ],
      "execution_count": 705,
      "outputs": []
    },
    {
      "cell_type": "markdown",
      "metadata": {
        "id": "C76er301zw44",
        "colab_type": "text"
      },
      "source": [
        "## 计算各采样点的速度\n",
        "start作为待计算速度的点,end作为参考点，最终结果需要求绝对值，这里的速度是标量。"
      ]
    },
    {
      "cell_type": "code",
      "metadata": {
        "id": "roO-cvefz7Au",
        "colab_type": "code",
        "colab": {}
      },
      "source": [
        "from sklearn.metrics.pairwise import haversine_distances\n",
        "from math import radians\n",
        "\n",
        "def computeSpeed(start,end,name):\n",
        "  def utility(x):\n",
        "    startPoint = [x[\"StartLat\"],x[\"StartLong\"]]\n",
        "    endPoint = [x[\"EndLat\"],x[\"EndLong\"]]\n",
        "    startPoint_in_radians = [radians(_) for _ in startPoint]\n",
        "    endPoint_in_radians = [radians(_) for _ in endPoint]\n",
        "    result = haversine_distances([startPoint_in_radians, endPoint_in_radians])\n",
        "    return abs((result * 6371000/1000)[0,1]/x['interval']) #计算速度\n",
        "  startDF = start.reset_index(drop=True)[['timeStamp','Lat','Long']].rename(columns={\"timeStamp\":\"StartTimeStamp\",\"Lat\":\"StartLat\",\"Long\":\"StartLong\"})\n",
        "  endDF =  end.reset_index(drop=True)[['timeStamp','Lat','Long']].rename(columns={\"timeStamp\":\"EndTimeStamp\",\"Lat\":\"EndLat\",\"Long\":\"EndLong\"})\n",
        "  v = pd.concat([startDF,endDF],axis = 1)\n",
        "  v['interval']=(v['EndTimeStamp'] - v['StartTimeStamp'])/np.timedelta64(1, 'h') #计算以小时为单位的时间间隔\n",
        "  #print(v.apply(lambda x:utility(x),axis = 1).shape)\n",
        "  start.loc[:,name] = v.apply(lambda x:utility(x),axis = 1)\n",
        "  return start"
      ],
      "execution_count": 706,
      "outputs": []
    },
    {
      "cell_type": "markdown",
      "metadata": {
        "id": "2FNvfFsZqlCH",
        "colab_type": "text"
      },
      "source": [
        "## 选取相邻点计算速度\n",
        "如何判断每个点的速度是否合理，显然我们不能只是简单的选择相邻点计算距离然后除以时间作为该点的速度，也不能随机的选择参考点（这个原因前面已经说了），如果只是选择相邻点作为参考，那么一个毛刺点不仅导致自身被清理掉，也会引起附近的正常的点被清理。因此我们选择奇数个时间相邻点作为参考点计算速度，如果计算结果大部分认为速度合理，那么就认为这是正常采样点，否则认为是毛刺。\n",
        "\n",
        "---\n",
        "\n",
        "\n",
        "因为采取这样的方式，我们不得不考虑边界点速度计算的问题，边界点的某一侧是没有足够的参考点，因此边界点必须单独考虑，参考点的选择是以待计算速度的点为中心，向两侧均匀延伸，边界点则是向一侧倾斜，上边界和下边界需要分别考虑。"
      ]
    },
    {
      "cell_type": "code",
      "metadata": {
        "id": "2Ld_enNCIj5y",
        "colab_type": "code",
        "colab": {}
      },
      "source": [
        "def computeEachPoitSpeed(t,comparePoints,columnStartName=\"speed\"):\n",
        "  rows,_ = t.shape\n",
        "  if (comparePoints >= rows and comparePoints % 2 == 0):\n",
        "    raise Exception('spam', 'eggs')\n",
        "  comparePoints // 2\n",
        "  upperPart = comparePoints // 2\n",
        "  bottomPart = comparePoints - upperPart\n",
        "  tMid = t.iloc[upperPart:-bottomPart,:].reset_index(drop=True)\n",
        "  for i in range(0,upperPart):\n",
        "    end = t.iloc[i:-(comparePoints - i),:]\n",
        "    computeSpeed(tMid,end,\"%s%d\"%(columnStartName,i))\n",
        "  for i in range(0,bottomPart):\n",
        "    k = -bottomPart + 1 + i\n",
        "    if (k != 0):\n",
        "      end = t.iloc[(upperPart + 1 + i):(-bottomPart + 1 + i),:]\n",
        "    else:\n",
        "      end = t.iloc[(upperPart + 1 + i): ,:]\n",
        "    computeSpeed(tMid,end,\"%s%d\"%(columnStartName,(upperPart + i)))\n",
        "  upperPartSelector = np.array([[ j  for j in range(0,comparePoints + 1) if j!=i ]  for i in range(0,upperPart )])\n",
        "  tUpperpart = t.iloc[0:upperPart,:].reset_index(drop=True)\n",
        "\n",
        "  for index,i in enumerate(upperPartSelector.transpose()):\n",
        "    end =  t.iloc[i,:]\n",
        "    computeSpeed(tUpperpart,end,\"%s%d\"%(columnStartName,index))\n",
        "\n",
        "  bottomPartSelector = np.array([[ -j-1  for j in range(0,comparePoints + 1) if j!=i ]  for i in range(0,bottomPart )])[::-1]\n",
        "  tBottompart = t.iloc[-bottomPart:,:].reset_index(drop=True)\n",
        "  \n",
        "  for index,i in enumerate(bottomPartSelector.transpose()):\n",
        "    end =  t.iloc[i,:]\n",
        "    computeSpeed(tBottompart,end,\"%s%d\"%(columnStartName,index))\n",
        "  return pd.concat([tUpperpart,tMid,tBottompart], ignore_index=True)\n",
        "  "
      ],
      "execution_count": 707,
      "outputs": []
    },
    {
      "cell_type": "code",
      "metadata": {
        "id": "3uBmxWVrlg5L",
        "colab_type": "code",
        "colab": {}
      },
      "source": [
        "def drawSpeed(result,speedFieldNames):\n",
        "  path = '/usr/share/fonts/truetype/NotoSansSC-Light.otf'\n",
        "  fontprop = fm.FontProperties(fname=path, size= 15)\n",
        "  numberSpeeds = len(speedFieldNames)\n",
        "  f3, axs3 = plt.subplots(numberSpeeds,1,figsize=(15,30), sharex=True, sharey=True)\n",
        "  for index,i in enumerate(speedFieldNames):\n",
        "    curPlot = axs3[index]\n",
        "    curPlot.set_title(i,fontproperties=fontprop)\n",
        "    curPlot.set_ylabel('速度:km/h', fontproperties=fontprop)\n",
        "    curPlot.set_xlabel('时间', fontproperties=fontprop)\n",
        "    curPlot.plot(result.loc[:,'timeStamp'],result.loc[:,i])"
      ],
      "execution_count": 708,
      "outputs": []
    },
    {
      "cell_type": "code",
      "metadata": {
        "id": "jEkRAmTqSxK_",
        "colab_type": "code",
        "colab": {}
      },
      "source": [
        "def cleanGlitchBySpeed(origin,comparePoints,MaxSpeed,isDrawSpeed = False):\n",
        "  columnStartName=\"speed\"\n",
        "  result = computeEachPoitSpeed(origin,comparePoints,columnStartName)\n",
        "  speedFieldNames = [i for i in result.columns.values if i.startswith(columnStartName)]\n",
        "  if (isDrawSpeed): #判断是否需要画图展示\n",
        "    drawSpeed(result,speedFieldNames)\n",
        "  return origin.loc[(result.loc[:,speedFieldNames]< MaxSpeed).sum(axis = 1) > (comparePoints // 2),:]\n"
      ],
      "execution_count": 709,
      "outputs": []
    },
    {
      "cell_type": "markdown",
      "metadata": {
        "id": "mjHsvA6rtAdX",
        "colab_type": "text"
      },
      "source": [
        "### 毛刺点速度展示\n",
        "异常速度总是**成对**出现，如果不采用举手表决的方式，很容易导致正常采样点也被清理掉，当然如果采样点足够多，也许丢掉一些非毛刺点也是可以接受的。\n",
        "\n",
        "---\n",
        "此处计算以时间相邻5个点作为参考时，该点的最小标量速度。\n"
      ]
    },
    {
      "cell_type": "code",
      "metadata": {
        "id": "BvdWjlxHoIiS",
        "colab_type": "code",
        "colab": {
          "base_uri": "https://localhost:8080/",
          "height": 1000
        },
        "outputId": "b5473a99-9d21-490f-dedc-0d45c512ba3d"
      },
      "source": [
        "afterCleanGlitchBySpeed = cleanGlitchBySpeed(t,5,3000,True)"
      ],
      "execution_count": 710,
      "outputs": [
        {
          "output_type": "display_data",
          "data": {
            "image/png": "[encoded data removed]",
            "text/plain": [
              "<Figure size 1080x2160 with 5 Axes>"
            ]
          },
          "metadata": {
            "tags": [],
            "needs_background": "light"
          }
        }
      ]
    },
    {
      "cell_type": "code",
      "metadata": {
        "id": "nJSxQq9WaWNX",
        "colab_type": "code",
        "colab": {}
      },
      "source": [
        "def drawEffectAfterCleared(origin,cleaned):\n",
        "  path = '/usr/share/fonts/truetype/NotoSansSC-Light.otf'\n",
        "  fontprop = fm.FontProperties(fname=path, size= 20)\n",
        "  plt.figure(figsize=(30,15))\n",
        "  #afterCleanGlitchBySpeed = cleanGlitchBySpeed(t,5,3000)\n",
        "  plt.subplot(1, 2, 1)\n",
        "  plt.title('毛刺清理前',fontproperties=fontprop)\n",
        "  plt.ylabel('经度',fontproperties=fontprop)\n",
        "  plt.xlabel('纬度',fontproperties=fontprop)\n",
        "  plt.plot(origin.loc[:,\"Lat\"], origin.loc[:,'Long'], '.-')\n",
        "  plt.subplot(1, 2, 2)\n",
        "  plt.title('毛刺清理后',fontproperties=fontprop)\n",
        "  plt.plot(cleaned.loc[:,\"Lat\"], cleaned.loc[:,'Long'], '.-')\n",
        "  plt.xlabel('纬度',fontproperties=fontprop)\n",
        "  plt.ylabel('经度',fontproperties=fontprop)\n",
        "  plt.show()\n"
      ],
      "execution_count": 711,
      "outputs": []
    },
    {
      "cell_type": "markdown",
      "metadata": {
        "id": "xuq7pIAhvb1N",
        "colab_type": "text"
      },
      "source": [
        "## 举手表决去毛刺\n",
        "飞机的最大合理速度为3000km/h，所有大于该速度的点都是潜在的毛刺点，然后采用举手表决的方式丢弃大部分认为速度不合理的点。处理的效果比较直观。"
      ]
    },
    {
      "cell_type": "code",
      "metadata": {
        "id": "WYDNwM_jgQmD",
        "colab_type": "code",
        "colab": {
          "base_uri": "https://localhost:8080/",
          "height": 850
        },
        "outputId": "c7784807-4b4a-41c7-adfc-30d985407712"
      },
      "source": [
        "afterCleanGlitchBySpeed = cleanGlitchBySpeed(t,5,3000)\n",
        "drawEffectAfterCleared(t,afterCleanGlitchBySpeed)"
      ],
      "execution_count": 713,
      "outputs": [
        {
          "output_type": "display_data",
          "data": {
            "image/png": "[encoded data removed]",
            "text/plain": [
              "<Figure size 2160x1080 with 2 Axes>"
            ]
          },
          "metadata": {
            "tags": [],
            "needs_background": "light"
          }
        }
      ]
    },
    {
      "cell_type": "code",
      "metadata": {
        "id": "wNTQC_wvGbQB",
        "colab_type": "code",
        "colab": {}
      },
      "source": [
        ""
      ],
      "execution_count": 713,
      "outputs": []
    },
    {
      "cell_type": "markdown",
      "metadata": {
        "id": "GHQvPhpeUV5c",
        "colab_type": "text"
      },
      "source": [
        "# 发现轨迹的盘旋和折返"
      ]
    },
    {
      "cell_type": "markdown",
      "metadata": {
        "id": "C73jFBojVbtj",
        "colab_type": "text"
      },
      "source": [
        "## 新定义数据类型，主要目的是计算差乘\n",
        "这个乘积是利用每个点的经纬度计算两点在地球表面的最短距离。"
      ]
    },
    {
      "cell_type": "code",
      "metadata": {
        "id": "ApXM5zDGVKuU",
        "colab_type": "code",
        "colab": {}
      },
      "source": [
        "class complex: \n",
        "  def __init__(self, a, b): \n",
        "      self.a = a \n",
        "      self.b = b\n",
        "    # adding two objects  \n",
        "  def __add__(self, other): \n",
        "      return self.a + other.a, self.b + other.b\n",
        "  def __mul__(self,other):\n",
        "    startPoint = [self.a,self.b]\n",
        "    endPoint = [other.a,other.b]\n",
        "    startPoint_in_radians = [radians(_) for _ in startPoint]\n",
        "    endPoint_in_radians = [radians(_) for _ in endPoint]\n",
        "    result = haversine_distances([startPoint_in_radians, endPoint_in_radians])\n",
        "    return (result * 6371000/1000)[0,1] \n",
        "\n",
        "  def __str__(self): \n",
        "      return \"complex(%f,%f)\"%(self.a, self.b) "
      ],
      "execution_count": 714,
      "outputs": []
    },
    {
      "cell_type": "markdown",
      "metadata": {
        "id": "25P-6tPFaGPy",
        "colab_type": "text"
      },
      "source": [
        "## 原理\n",
        "如果目标没有沿直线航行，那么累计的轨迹点的距离应该远大于首末两点的距离。"
      ]
    },
    {
      "cell_type": "markdown",
      "metadata": {
        "id": "e_nY89kVbxNk",
        "colab_type": "text"
      },
      "source": [
        "### 构建每个点到其他所有点的最近距离矩阵\n",
        "这里利用了矩阵的内积，只是重定义的乘法操作，见上面complex的定义。"
      ]
    },
    {
      "cell_type": "code",
      "metadata": {
        "id": "jVmJhNIKFU4y",
        "colab_type": "code",
        "colab": {
          "base_uri": "https://localhost:8080/",
          "height": 35
        },
        "outputId": "ebd296dd-2e51-49cf-fa83-5d7180a8f5cb"
      },
      "source": [
        "afterCleanGlitchBySpeed.shape"
      ],
      "execution_count": 715,
      "outputs": [
        {
          "output_type": "execute_result",
          "data": {
            "text/plain": [
              "(545, 3)"
            ]
          },
          "metadata": {
            "tags": []
          },
          "execution_count": 715
        }
      ]
    },
    {
      "cell_type": "code",
      "metadata": {
        "id": "3AU1ge4tbwN9",
        "colab_type": "code",
        "colab": {}
      },
      "source": [
        "def buildDirectDistanceMatrix(df):\n",
        "  s = df.set_index('timeStamp').apply(lambda x:complex(x[\"Lat\"],x[\"Long\"]),axis = 1) #此时timestamp列可能还不是索引\n",
        "  u = s.to_frame().rename(columns={0:\"point\"}) #新构造的类命名为point\n",
        "  r = u @ u.T\n",
        "  return r * np.tri(*r.shape).T #r是对角线对称的，但是只需要保存右上部分，\n",
        "directMatrix = buildDirectDistanceMatrix(afterCleanGlitchBySpeed)"
      ],
      "execution_count": 716,
      "outputs": []
    },
    {
      "cell_type": "markdown",
      "metadata": {
        "id": "7Q_vRziQfYte",
        "colab_type": "text"
      },
      "source": [
        "## 构建累计距离矩阵\n",
        "基于已经计算了所有两点之间的直线距离的基础，利用时间相邻的两点的距离计算各时间点的累计距离，即逐步将两点的相邻距离累加在一起。里面的np.tri可以清除掉那些用不到的非相邻点的距离，然后继续累计和，再沿时间轴重复，然后再次利用np.tri，考虑到计算的需要又可能将时间过于相近的两点的累计距离置为0，这样在寻找折返时，就不用考虑时间相近的点，纯粹经验之谈。"
      ]
    },
    {
      "cell_type": "code",
      "metadata": {
        "id": "FM0Dx13ZenZL",
        "colab_type": "code",
        "colab": {}
      },
      "source": [
        "def buildcumDistanceMatric(df):\n",
        "  \n",
        "  b = df * np.tri(*df.shape,1)\n",
        "  d = b.sum(axis=0).to_frame() # 这里用了一些技巧，0的结果默认为不放进去的\n",
        "  h= d[[0]*d.shape[0]] #直接相邻的两点的距离扩展成矩阵，便于计算,哈哈，这些功能我有时看不懂了\n",
        "  h.columns = d.index\n",
        "  return (h * np.tri(*h.shape,-1)).T.cumsum(axis = 1)\n",
        "cumDistanceMatric = buildcumDistanceMatric(directMatrix)"
      ],
      "execution_count": 717,
      "outputs": []
    },
    {
      "cell_type": "code",
      "metadata": {
        "id": "Ufe0zg2eFLsh",
        "colab_type": "code",
        "colab": {
          "base_uri": "https://localhost:8080/",
          "height": 665
        },
        "outputId": "712e989a-14d7-4861-b809-99853c323415"
      },
      "source": [
        "cumDistanceMatric"
      ],
      "execution_count": 718,
      "outputs": [
        {
          "output_type": "execute_result",
          "data": {
            "text/html": [
              "<div>\n",
              "<style scoped>\n",
              "    .dataframe tbody tr th:only-of-type {\n",
              "        vertical-align: middle;\n",
              "    }\n",
              "\n",
              "    .dataframe tbody tr th {\n",
              "        vertical-align: top;\n",
              "    }\n",
              "\n",
              "    .dataframe thead th {\n",
              "        text-align: right;\n",
              "    }\n",
              "</style>\n",
              "<table border=\"1\" class=\"dataframe\">\n",
              "  <thead>\n",
              "    <tr style=\"text-align: right;\">\n",
              "      <th>timeStamp</th>\n",
              "      <th>2005-02-25 03:30:00</th>\n",
              "      <th>2005-02-25 03:31:00</th>\n",
              "      <th>2005-02-25 03:32:00</th>\n",
              "      <th>2005-02-25 03:33:00</th>\n",
              "      <th>2005-02-25 03:34:00</th>\n",
              "      <th>2005-02-25 03:35:00</th>\n",
              "      <th>2005-02-25 03:36:00</th>\n",
              "      <th>2005-02-25 03:37:00</th>\n",
              "      <th>2005-02-25 03:38:00</th>\n",
              "      <th>2005-02-25 03:39:00</th>\n",
              "      <th>2005-02-25 03:40:00</th>\n",
              "      <th>2005-02-25 03:41:00</th>\n",
              "      <th>2005-02-25 03:42:00</th>\n",
              "      <th>2005-02-25 03:43:00</th>\n",
              "      <th>2005-02-25 03:44:00</th>\n",
              "      <th>2005-02-25 03:45:00</th>\n",
              "      <th>2005-02-25 03:46:00</th>\n",
              "      <th>2005-02-25 03:47:00</th>\n",
              "      <th>2005-02-25 03:48:00</th>\n",
              "      <th>2005-02-25 03:49:00</th>\n",
              "      <th>2005-02-25 03:50:00</th>\n",
              "      <th>2005-02-25 03:51:00</th>\n",
              "      <th>2005-02-25 03:52:00</th>\n",
              "      <th>2005-02-25 03:53:00</th>\n",
              "      <th>2005-02-25 03:54:00</th>\n",
              "      <th>2005-02-25 03:55:00</th>\n",
              "      <th>2005-02-25 03:56:00</th>\n",
              "      <th>2005-02-25 03:57:00</th>\n",
              "      <th>2005-02-25 03:58:00</th>\n",
              "      <th>2005-02-25 03:59:00</th>\n",
              "      <th>2005-02-25 04:00:00</th>\n",
              "      <th>2005-02-25 04:01:00</th>\n",
              "      <th>2005-02-25 04:02:00</th>\n",
              "      <th>2005-02-25 04:03:00</th>\n",
              "      <th>2005-02-25 04:04:00</th>\n",
              "      <th>2005-02-25 04:05:00</th>\n",
              "      <th>2005-02-25 04:06:00</th>\n",
              "      <th>2005-02-25 04:07:00</th>\n",
              "      <th>2005-02-25 04:08:00</th>\n",
              "      <th>2005-02-25 04:09:00</th>\n",
              "      <th>...</th>\n",
              "      <th>2005-02-25 12:00:00</th>\n",
              "      <th>2005-02-25 12:01:00</th>\n",
              "      <th>2005-02-25 12:02:00</th>\n",
              "      <th>2005-02-25 12:03:00</th>\n",
              "      <th>2005-02-25 12:04:00</th>\n",
              "      <th>2005-02-25 12:05:00</th>\n",
              "      <th>2005-02-25 12:06:00</th>\n",
              "      <th>2005-02-25 12:07:00</th>\n",
              "      <th>2005-02-25 12:08:00</th>\n",
              "      <th>2005-02-25 12:09:00</th>\n",
              "      <th>2005-02-25 12:10:00</th>\n",
              "      <th>2005-02-25 12:11:00</th>\n",
              "      <th>2005-02-25 12:12:00</th>\n",
              "      <th>2005-02-25 12:13:00</th>\n",
              "      <th>2005-02-25 12:14:00</th>\n",
              "      <th>2005-02-25 12:15:00</th>\n",
              "      <th>2005-02-25 12:16:00</th>\n",
              "      <th>2005-02-25 12:17:00</th>\n",
              "      <th>2005-02-25 12:18:00</th>\n",
              "      <th>2005-02-25 12:19:00</th>\n",
              "      <th>2005-02-25 12:20:00</th>\n",
              "      <th>2005-02-25 12:21:00</th>\n",
              "      <th>2005-02-25 12:22:00</th>\n",
              "      <th>2005-02-25 12:23:00</th>\n",
              "      <th>2005-02-25 12:24:00</th>\n",
              "      <th>2005-02-25 12:25:00</th>\n",
              "      <th>2005-02-25 12:26:00</th>\n",
              "      <th>2005-02-25 12:27:00</th>\n",
              "      <th>2005-02-25 12:28:00</th>\n",
              "      <th>2005-02-25 12:29:00</th>\n",
              "      <th>2005-02-25 12:30:00</th>\n",
              "      <th>2005-02-25 12:31:00</th>\n",
              "      <th>2005-02-25 12:32:00</th>\n",
              "      <th>2005-02-25 12:33:00</th>\n",
              "      <th>2005-02-25 12:34:00</th>\n",
              "      <th>2005-02-25 12:35:00</th>\n",
              "      <th>2005-02-25 12:36:00</th>\n",
              "      <th>2005-02-25 12:37:00</th>\n",
              "      <th>2005-02-25 12:38:00</th>\n",
              "      <th>2005-02-25 12:39:00</th>\n",
              "    </tr>\n",
              "    <tr>\n",
              "      <th>timeStamp</th>\n",
              "      <th></th>\n",
              "      <th></th>\n",
              "      <th></th>\n",
              "      <th></th>\n",
              "      <th></th>\n",
              "      <th></th>\n",
              "      <th></th>\n",
              "      <th></th>\n",
              "      <th></th>\n",
              "      <th></th>\n",
              "      <th></th>\n",
              "      <th></th>\n",
              "      <th></th>\n",
              "      <th></th>\n",
              "      <th></th>\n",
              "      <th></th>\n",
              "      <th></th>\n",
              "      <th></th>\n",
              "      <th></th>\n",
              "      <th></th>\n",
              "      <th></th>\n",
              "      <th></th>\n",
              "      <th></th>\n",
              "      <th></th>\n",
              "      <th></th>\n",
              "      <th></th>\n",
              "      <th></th>\n",
              "      <th></th>\n",
              "      <th></th>\n",
              "      <th></th>\n",
              "      <th></th>\n",
              "      <th></th>\n",
              "      <th></th>\n",
              "      <th></th>\n",
              "      <th></th>\n",
              "      <th></th>\n",
              "      <th></th>\n",
              "      <th></th>\n",
              "      <th></th>\n",
              "      <th></th>\n",
              "      <th></th>\n",
              "      <th></th>\n",
              "      <th></th>\n",
              "      <th></th>\n",
              "      <th></th>\n",
              "      <th></th>\n",
              "      <th></th>\n",
              "      <th></th>\n",
              "      <th></th>\n",
              "      <th></th>\n",
              "      <th></th>\n",
              "      <th></th>\n",
              "      <th></th>\n",
              "      <th></th>\n",
              "      <th></th>\n",
              "      <th></th>\n",
              "      <th></th>\n",
              "      <th></th>\n",
              "      <th></th>\n",
              "      <th></th>\n",
              "      <th></th>\n",
              "      <th></th>\n",
              "      <th></th>\n",
              "      <th></th>\n",
              "      <th></th>\n",
              "      <th></th>\n",
              "      <th></th>\n",
              "      <th></th>\n",
              "      <th></th>\n",
              "      <th></th>\n",
              "      <th></th>\n",
              "      <th></th>\n",
              "      <th></th>\n",
              "      <th></th>\n",
              "      <th></th>\n",
              "      <th></th>\n",
              "      <th></th>\n",
              "      <th></th>\n",
              "      <th></th>\n",
              "      <th></th>\n",
              "      <th></th>\n",
              "    </tr>\n",
              "  </thead>\n",
              "  <tbody>\n",
              "    <tr>\n",
              "      <th>2005-02-25 03:30:00</th>\n",
              "      <td>0.0</td>\n",
              "      <td>37.763856</td>\n",
              "      <td>69.650368</td>\n",
              "      <td>92.761255</td>\n",
              "      <td>109.358831</td>\n",
              "      <td>135.694121</td>\n",
              "      <td>157.923718</td>\n",
              "      <td>178.263689</td>\n",
              "      <td>206.973640</td>\n",
              "      <td>221.637512</td>\n",
              "      <td>244.787715</td>\n",
              "      <td>265.658177</td>\n",
              "      <td>302.260669</td>\n",
              "      <td>316.117714</td>\n",
              "      <td>352.383941</td>\n",
              "      <td>370.462824</td>\n",
              "      <td>379.597508</td>\n",
              "      <td>392.493066</td>\n",
              "      <td>424.526537</td>\n",
              "      <td>433.882381</td>\n",
              "      <td>437.779029</td>\n",
              "      <td>466.016554</td>\n",
              "      <td>473.527554</td>\n",
              "      <td>490.106048</td>\n",
              "      <td>500.056758</td>\n",
              "      <td>512.868229</td>\n",
              "      <td>518.555807</td>\n",
              "      <td>535.555944</td>\n",
              "      <td>552.393641</td>\n",
              "      <td>559.512325</td>\n",
              "      <td>566.420334</td>\n",
              "      <td>573.391724</td>\n",
              "      <td>587.583436</td>\n",
              "      <td>602.693914</td>\n",
              "      <td>612.379433</td>\n",
              "      <td>634.202735</td>\n",
              "      <td>658.088064</td>\n",
              "      <td>673.943204</td>\n",
              "      <td>678.034240</td>\n",
              "      <td>690.313758</td>\n",
              "      <td>...</td>\n",
              "      <td>7677.263951</td>\n",
              "      <td>7703.395683</td>\n",
              "      <td>7719.019576</td>\n",
              "      <td>7727.388406</td>\n",
              "      <td>7744.375188</td>\n",
              "      <td>7773.294266</td>\n",
              "      <td>7787.886915</td>\n",
              "      <td>7795.552371</td>\n",
              "      <td>7803.577774</td>\n",
              "      <td>7806.279067</td>\n",
              "      <td>7822.935167</td>\n",
              "      <td>7842.789061</td>\n",
              "      <td>7853.717972</td>\n",
              "      <td>7869.569474</td>\n",
              "      <td>7886.521403</td>\n",
              "      <td>7890.134994</td>\n",
              "      <td>7916.889278</td>\n",
              "      <td>7934.246141</td>\n",
              "      <td>7954.974611</td>\n",
              "      <td>7992.195400</td>\n",
              "      <td>8000.964496</td>\n",
              "      <td>8016.188391</td>\n",
              "      <td>8022.305246</td>\n",
              "      <td>8035.443796</td>\n",
              "      <td>8054.817668</td>\n",
              "      <td>8061.184628</td>\n",
              "      <td>8076.140166</td>\n",
              "      <td>8109.701147</td>\n",
              "      <td>8116.311530</td>\n",
              "      <td>8125.958072</td>\n",
              "      <td>8141.221980</td>\n",
              "      <td>8149.939406</td>\n",
              "      <td>8153.509608</td>\n",
              "      <td>8161.339497</td>\n",
              "      <td>8187.915503</td>\n",
              "      <td>8204.181477</td>\n",
              "      <td>8207.860313</td>\n",
              "      <td>8222.572196</td>\n",
              "      <td>8231.841211</td>\n",
              "      <td>8234.056472</td>\n",
              "    </tr>\n",
              "    <tr>\n",
              "      <th>2005-02-25 03:31:00</th>\n",
              "      <td>0.0</td>\n",
              "      <td>0.000000</td>\n",
              "      <td>31.886512</td>\n",
              "      <td>54.997399</td>\n",
              "      <td>71.594975</td>\n",
              "      <td>97.930265</td>\n",
              "      <td>120.159862</td>\n",
              "      <td>140.499833</td>\n",
              "      <td>169.209784</td>\n",
              "      <td>183.873656</td>\n",
              "      <td>207.023859</td>\n",
              "      <td>227.894321</td>\n",
              "      <td>264.496814</td>\n",
              "      <td>278.353858</td>\n",
              "      <td>314.620085</td>\n",
              "      <td>332.698969</td>\n",
              "      <td>341.833652</td>\n",
              "      <td>354.729210</td>\n",
              "      <td>386.762681</td>\n",
              "      <td>396.118525</td>\n",
              "      <td>400.015173</td>\n",
              "      <td>428.252698</td>\n",
              "      <td>435.763699</td>\n",
              "      <td>452.342192</td>\n",
              "      <td>462.292902</td>\n",
              "      <td>475.104373</td>\n",
              "      <td>480.791951</td>\n",
              "      <td>497.792088</td>\n",
              "      <td>514.629785</td>\n",
              "      <td>521.748469</td>\n",
              "      <td>528.656478</td>\n",
              "      <td>535.627869</td>\n",
              "      <td>549.819580</td>\n",
              "      <td>564.930058</td>\n",
              "      <td>574.615578</td>\n",
              "      <td>596.438879</td>\n",
              "      <td>620.324208</td>\n",
              "      <td>636.179349</td>\n",
              "      <td>640.270384</td>\n",
              "      <td>652.549902</td>\n",
              "      <td>...</td>\n",
              "      <td>7639.500095</td>\n",
              "      <td>7665.631827</td>\n",
              "      <td>7681.255720</td>\n",
              "      <td>7689.624550</td>\n",
              "      <td>7706.611332</td>\n",
              "      <td>7735.530410</td>\n",
              "      <td>7750.123060</td>\n",
              "      <td>7757.788515</td>\n",
              "      <td>7765.813918</td>\n",
              "      <td>7768.515211</td>\n",
              "      <td>7785.171311</td>\n",
              "      <td>7805.025206</td>\n",
              "      <td>7815.954116</td>\n",
              "      <td>7831.805618</td>\n",
              "      <td>7848.757548</td>\n",
              "      <td>7852.371138</td>\n",
              "      <td>7879.125422</td>\n",
              "      <td>7896.482286</td>\n",
              "      <td>7917.210755</td>\n",
              "      <td>7954.431545</td>\n",
              "      <td>7963.200641</td>\n",
              "      <td>7978.424535</td>\n",
              "      <td>7984.541390</td>\n",
              "      <td>7997.679941</td>\n",
              "      <td>8017.053812</td>\n",
              "      <td>8023.420772</td>\n",
              "      <td>8038.376310</td>\n",
              "      <td>8071.937291</td>\n",
              "      <td>8078.547674</td>\n",
              "      <td>8088.194217</td>\n",
              "      <td>8103.458124</td>\n",
              "      <td>8112.175550</td>\n",
              "      <td>8115.745753</td>\n",
              "      <td>8123.575641</td>\n",
              "      <td>8150.151647</td>\n",
              "      <td>8166.417621</td>\n",
              "      <td>8170.096457</td>\n",
              "      <td>8184.808340</td>\n",
              "      <td>8194.077355</td>\n",
              "      <td>8196.292616</td>\n",
              "    </tr>\n",
              "    <tr>\n",
              "      <th>2005-02-25 03:32:00</th>\n",
              "      <td>0.0</td>\n",
              "      <td>0.000000</td>\n",
              "      <td>0.000000</td>\n",
              "      <td>23.110886</td>\n",
              "      <td>39.708463</td>\n",
              "      <td>66.043753</td>\n",
              "      <td>88.273350</td>\n",
              "      <td>108.613321</td>\n",
              "      <td>137.323272</td>\n",
              "      <td>151.987144</td>\n",
              "      <td>175.137347</td>\n",
              "      <td>196.007809</td>\n",
              "      <td>232.610301</td>\n",
              "      <td>246.467346</td>\n",
              "      <td>282.733573</td>\n",
              "      <td>300.812456</td>\n",
              "      <td>309.947140</td>\n",
              "      <td>322.842698</td>\n",
              "      <td>354.876169</td>\n",
              "      <td>364.232013</td>\n",
              "      <td>368.128661</td>\n",
              "      <td>396.366186</td>\n",
              "      <td>403.877186</td>\n",
              "      <td>420.455680</td>\n",
              "      <td>430.406390</td>\n",
              "      <td>443.217860</td>\n",
              "      <td>448.905439</td>\n",
              "      <td>465.905576</td>\n",
              "      <td>482.743273</td>\n",
              "      <td>489.861957</td>\n",
              "      <td>496.769966</td>\n",
              "      <td>503.741356</td>\n",
              "      <td>517.933068</td>\n",
              "      <td>533.043545</td>\n",
              "      <td>542.729065</td>\n",
              "      <td>564.552367</td>\n",
              "      <td>588.437696</td>\n",
              "      <td>604.292836</td>\n",
              "      <td>608.383872</td>\n",
              "      <td>620.663390</td>\n",
              "      <td>...</td>\n",
              "      <td>7607.613582</td>\n",
              "      <td>7633.745314</td>\n",
              "      <td>7649.369208</td>\n",
              "      <td>7657.738037</td>\n",
              "      <td>7674.724820</td>\n",
              "      <td>7703.643898</td>\n",
              "      <td>7718.236547</td>\n",
              "      <td>7725.902003</td>\n",
              "      <td>7733.927406</td>\n",
              "      <td>7736.628699</td>\n",
              "      <td>7753.284799</td>\n",
              "      <td>7773.138693</td>\n",
              "      <td>7784.067604</td>\n",
              "      <td>7799.919106</td>\n",
              "      <td>7816.871035</td>\n",
              "      <td>7820.484626</td>\n",
              "      <td>7847.238910</td>\n",
              "      <td>7864.595773</td>\n",
              "      <td>7885.324243</td>\n",
              "      <td>7922.545032</td>\n",
              "      <td>7931.314128</td>\n",
              "      <td>7946.538023</td>\n",
              "      <td>7952.654877</td>\n",
              "      <td>7965.793428</td>\n",
              "      <td>7985.167300</td>\n",
              "      <td>7991.534260</td>\n",
              "      <td>8006.489798</td>\n",
              "      <td>8040.050779</td>\n",
              "      <td>8046.661161</td>\n",
              "      <td>8056.307704</td>\n",
              "      <td>8071.571612</td>\n",
              "      <td>8080.289038</td>\n",
              "      <td>8083.859240</td>\n",
              "      <td>8091.689129</td>\n",
              "      <td>8118.265135</td>\n",
              "      <td>8134.531109</td>\n",
              "      <td>8138.209945</td>\n",
              "      <td>8152.921828</td>\n",
              "      <td>8162.190843</td>\n",
              "      <td>8164.406104</td>\n",
              "    </tr>\n",
              "    <tr>\n",
              "      <th>2005-02-25 03:33:00</th>\n",
              "      <td>0.0</td>\n",
              "      <td>0.000000</td>\n",
              "      <td>0.000000</td>\n",
              "      <td>0.000000</td>\n",
              "      <td>16.597577</td>\n",
              "      <td>42.932866</td>\n",
              "      <td>65.162463</td>\n",
              "      <td>85.502435</td>\n",
              "      <td>114.212385</td>\n",
              "      <td>128.876258</td>\n",
              "      <td>152.026460</td>\n",
              "      <td>172.896923</td>\n",
              "      <td>209.499415</td>\n",
              "      <td>223.356459</td>\n",
              "      <td>259.622686</td>\n",
              "      <td>277.701570</td>\n",
              "      <td>286.836254</td>\n",
              "      <td>299.731812</td>\n",
              "      <td>331.765282</td>\n",
              "      <td>341.121126</td>\n",
              "      <td>345.017774</td>\n",
              "      <td>373.255299</td>\n",
              "      <td>380.766300</td>\n",
              "      <td>397.344793</td>\n",
              "      <td>407.295503</td>\n",
              "      <td>420.106974</td>\n",
              "      <td>425.794552</td>\n",
              "      <td>442.794689</td>\n",
              "      <td>459.632386</td>\n",
              "      <td>466.751070</td>\n",
              "      <td>473.659080</td>\n",
              "      <td>480.630470</td>\n",
              "      <td>494.822181</td>\n",
              "      <td>509.932659</td>\n",
              "      <td>519.618179</td>\n",
              "      <td>541.441481</td>\n",
              "      <td>565.326809</td>\n",
              "      <td>581.181950</td>\n",
              "      <td>585.272985</td>\n",
              "      <td>597.552503</td>\n",
              "      <td>...</td>\n",
              "      <td>7584.502696</td>\n",
              "      <td>7610.634428</td>\n",
              "      <td>7626.258322</td>\n",
              "      <td>7634.627151</td>\n",
              "      <td>7651.613934</td>\n",
              "      <td>7680.533011</td>\n",
              "      <td>7695.125661</td>\n",
              "      <td>7702.791116</td>\n",
              "      <td>7710.816519</td>\n",
              "      <td>7713.517812</td>\n",
              "      <td>7730.173912</td>\n",
              "      <td>7750.027807</td>\n",
              "      <td>7760.956717</td>\n",
              "      <td>7776.808219</td>\n",
              "      <td>7793.760149</td>\n",
              "      <td>7797.373739</td>\n",
              "      <td>7824.128023</td>\n",
              "      <td>7841.484887</td>\n",
              "      <td>7862.213356</td>\n",
              "      <td>7899.434146</td>\n",
              "      <td>7908.203242</td>\n",
              "      <td>7923.427136</td>\n",
              "      <td>7929.543991</td>\n",
              "      <td>7942.682542</td>\n",
              "      <td>7962.056414</td>\n",
              "      <td>7968.423373</td>\n",
              "      <td>7983.378911</td>\n",
              "      <td>8016.939893</td>\n",
              "      <td>8023.550275</td>\n",
              "      <td>8033.196818</td>\n",
              "      <td>8048.460726</td>\n",
              "      <td>8057.178151</td>\n",
              "      <td>8060.748354</td>\n",
              "      <td>8068.578242</td>\n",
              "      <td>8095.154248</td>\n",
              "      <td>8111.420222</td>\n",
              "      <td>8115.099059</td>\n",
              "      <td>8129.810942</td>\n",
              "      <td>8139.079956</td>\n",
              "      <td>8141.295217</td>\n",
              "    </tr>\n",
              "    <tr>\n",
              "      <th>2005-02-25 03:34:00</th>\n",
              "      <td>0.0</td>\n",
              "      <td>0.000000</td>\n",
              "      <td>0.000000</td>\n",
              "      <td>0.000000</td>\n",
              "      <td>0.000000</td>\n",
              "      <td>26.335290</td>\n",
              "      <td>48.564887</td>\n",
              "      <td>68.904858</td>\n",
              "      <td>97.614809</td>\n",
              "      <td>112.278681</td>\n",
              "      <td>135.428884</td>\n",
              "      <td>156.299346</td>\n",
              "      <td>192.901838</td>\n",
              "      <td>206.758882</td>\n",
              "      <td>243.025110</td>\n",
              "      <td>261.103993</td>\n",
              "      <td>270.238677</td>\n",
              "      <td>283.134235</td>\n",
              "      <td>315.167706</td>\n",
              "      <td>324.523549</td>\n",
              "      <td>328.420198</td>\n",
              "      <td>356.657723</td>\n",
              "      <td>364.168723</td>\n",
              "      <td>380.747217</td>\n",
              "      <td>390.697926</td>\n",
              "      <td>403.509397</td>\n",
              "      <td>409.196976</td>\n",
              "      <td>426.197113</td>\n",
              "      <td>443.034810</td>\n",
              "      <td>450.153494</td>\n",
              "      <td>457.061503</td>\n",
              "      <td>464.032893</td>\n",
              "      <td>478.224605</td>\n",
              "      <td>493.335082</td>\n",
              "      <td>503.020602</td>\n",
              "      <td>524.843904</td>\n",
              "      <td>548.729233</td>\n",
              "      <td>564.584373</td>\n",
              "      <td>568.675409</td>\n",
              "      <td>580.954927</td>\n",
              "      <td>...</td>\n",
              "      <td>7567.905119</td>\n",
              "      <td>7594.036851</td>\n",
              "      <td>7609.660745</td>\n",
              "      <td>7618.029574</td>\n",
              "      <td>7635.016357</td>\n",
              "      <td>7663.935435</td>\n",
              "      <td>7678.528084</td>\n",
              "      <td>7686.193540</td>\n",
              "      <td>7694.218942</td>\n",
              "      <td>7696.920236</td>\n",
              "      <td>7713.576335</td>\n",
              "      <td>7733.430230</td>\n",
              "      <td>7744.359141</td>\n",
              "      <td>7760.210643</td>\n",
              "      <td>7777.162572</td>\n",
              "      <td>7780.776163</td>\n",
              "      <td>7807.530446</td>\n",
              "      <td>7824.887310</td>\n",
              "      <td>7845.615779</td>\n",
              "      <td>7882.836569</td>\n",
              "      <td>7891.605665</td>\n",
              "      <td>7906.829560</td>\n",
              "      <td>7912.946414</td>\n",
              "      <td>7926.084965</td>\n",
              "      <td>7945.458837</td>\n",
              "      <td>7951.825797</td>\n",
              "      <td>7966.781334</td>\n",
              "      <td>8000.342316</td>\n",
              "      <td>8006.952698</td>\n",
              "      <td>8016.599241</td>\n",
              "      <td>8031.863149</td>\n",
              "      <td>8040.580575</td>\n",
              "      <td>8044.150777</td>\n",
              "      <td>8051.980666</td>\n",
              "      <td>8078.556671</td>\n",
              "      <td>8094.822646</td>\n",
              "      <td>8098.501482</td>\n",
              "      <td>8113.213365</td>\n",
              "      <td>8122.482380</td>\n",
              "      <td>8124.697640</td>\n",
              "    </tr>\n",
              "    <tr>\n",
              "      <th>...</th>\n",
              "      <td>...</td>\n",
              "      <td>...</td>\n",
              "      <td>...</td>\n",
              "      <td>...</td>\n",
              "      <td>...</td>\n",
              "      <td>...</td>\n",
              "      <td>...</td>\n",
              "      <td>...</td>\n",
              "      <td>...</td>\n",
              "      <td>...</td>\n",
              "      <td>...</td>\n",
              "      <td>...</td>\n",
              "      <td>...</td>\n",
              "      <td>...</td>\n",
              "      <td>...</td>\n",
              "      <td>...</td>\n",
              "      <td>...</td>\n",
              "      <td>...</td>\n",
              "      <td>...</td>\n",
              "      <td>...</td>\n",
              "      <td>...</td>\n",
              "      <td>...</td>\n",
              "      <td>...</td>\n",
              "      <td>...</td>\n",
              "      <td>...</td>\n",
              "      <td>...</td>\n",
              "      <td>...</td>\n",
              "      <td>...</td>\n",
              "      <td>...</td>\n",
              "      <td>...</td>\n",
              "      <td>...</td>\n",
              "      <td>...</td>\n",
              "      <td>...</td>\n",
              "      <td>...</td>\n",
              "      <td>...</td>\n",
              "      <td>...</td>\n",
              "      <td>...</td>\n",
              "      <td>...</td>\n",
              "      <td>...</td>\n",
              "      <td>...</td>\n",
              "      <td>...</td>\n",
              "      <td>...</td>\n",
              "      <td>...</td>\n",
              "      <td>...</td>\n",
              "      <td>...</td>\n",
              "      <td>...</td>\n",
              "      <td>...</td>\n",
              "      <td>...</td>\n",
              "      <td>...</td>\n",
              "      <td>...</td>\n",
              "      <td>...</td>\n",
              "      <td>...</td>\n",
              "      <td>...</td>\n",
              "      <td>...</td>\n",
              "      <td>...</td>\n",
              "      <td>...</td>\n",
              "      <td>...</td>\n",
              "      <td>...</td>\n",
              "      <td>...</td>\n",
              "      <td>...</td>\n",
              "      <td>...</td>\n",
              "      <td>...</td>\n",
              "      <td>...</td>\n",
              "      <td>...</td>\n",
              "      <td>...</td>\n",
              "      <td>...</td>\n",
              "      <td>...</td>\n",
              "      <td>...</td>\n",
              "      <td>...</td>\n",
              "      <td>...</td>\n",
              "      <td>...</td>\n",
              "      <td>...</td>\n",
              "      <td>...</td>\n",
              "      <td>...</td>\n",
              "      <td>...</td>\n",
              "      <td>...</td>\n",
              "      <td>...</td>\n",
              "      <td>...</td>\n",
              "      <td>...</td>\n",
              "      <td>...</td>\n",
              "      <td>...</td>\n",
              "    </tr>\n",
              "    <tr>\n",
              "      <th>2005-02-25 12:35:00</th>\n",
              "      <td>0.0</td>\n",
              "      <td>0.000000</td>\n",
              "      <td>0.000000</td>\n",
              "      <td>0.000000</td>\n",
              "      <td>0.000000</td>\n",
              "      <td>0.000000</td>\n",
              "      <td>0.000000</td>\n",
              "      <td>0.000000</td>\n",
              "      <td>0.000000</td>\n",
              "      <td>0.000000</td>\n",
              "      <td>0.000000</td>\n",
              "      <td>0.000000</td>\n",
              "      <td>0.000000</td>\n",
              "      <td>0.000000</td>\n",
              "      <td>0.000000</td>\n",
              "      <td>0.000000</td>\n",
              "      <td>0.000000</td>\n",
              "      <td>0.000000</td>\n",
              "      <td>0.000000</td>\n",
              "      <td>0.000000</td>\n",
              "      <td>0.000000</td>\n",
              "      <td>0.000000</td>\n",
              "      <td>0.000000</td>\n",
              "      <td>0.000000</td>\n",
              "      <td>0.000000</td>\n",
              "      <td>0.000000</td>\n",
              "      <td>0.000000</td>\n",
              "      <td>0.000000</td>\n",
              "      <td>0.000000</td>\n",
              "      <td>0.000000</td>\n",
              "      <td>0.000000</td>\n",
              "      <td>0.000000</td>\n",
              "      <td>0.000000</td>\n",
              "      <td>0.000000</td>\n",
              "      <td>0.000000</td>\n",
              "      <td>0.000000</td>\n",
              "      <td>0.000000</td>\n",
              "      <td>0.000000</td>\n",
              "      <td>0.000000</td>\n",
              "      <td>0.000000</td>\n",
              "      <td>...</td>\n",
              "      <td>0.000000</td>\n",
              "      <td>0.000000</td>\n",
              "      <td>0.000000</td>\n",
              "      <td>0.000000</td>\n",
              "      <td>0.000000</td>\n",
              "      <td>0.000000</td>\n",
              "      <td>0.000000</td>\n",
              "      <td>0.000000</td>\n",
              "      <td>0.000000</td>\n",
              "      <td>0.000000</td>\n",
              "      <td>0.000000</td>\n",
              "      <td>0.000000</td>\n",
              "      <td>0.000000</td>\n",
              "      <td>0.000000</td>\n",
              "      <td>0.000000</td>\n",
              "      <td>0.000000</td>\n",
              "      <td>0.000000</td>\n",
              "      <td>0.000000</td>\n",
              "      <td>0.000000</td>\n",
              "      <td>0.000000</td>\n",
              "      <td>0.000000</td>\n",
              "      <td>0.000000</td>\n",
              "      <td>0.000000</td>\n",
              "      <td>0.000000</td>\n",
              "      <td>0.000000</td>\n",
              "      <td>0.000000</td>\n",
              "      <td>0.000000</td>\n",
              "      <td>0.000000</td>\n",
              "      <td>0.000000</td>\n",
              "      <td>0.000000</td>\n",
              "      <td>0.000000</td>\n",
              "      <td>0.000000</td>\n",
              "      <td>0.000000</td>\n",
              "      <td>0.000000</td>\n",
              "      <td>0.000000</td>\n",
              "      <td>0.000000</td>\n",
              "      <td>3.678836</td>\n",
              "      <td>18.390719</td>\n",
              "      <td>27.659734</td>\n",
              "      <td>29.874995</td>\n",
              "    </tr>\n",
              "    <tr>\n",
              "      <th>2005-02-25 12:36:00</th>\n",
              "      <td>0.0</td>\n",
              "      <td>0.000000</td>\n",
              "      <td>0.000000</td>\n",
              "      <td>0.000000</td>\n",
              "      <td>0.000000</td>\n",
              "      <td>0.000000</td>\n",
              "      <td>0.000000</td>\n",
              "      <td>0.000000</td>\n",
              "      <td>0.000000</td>\n",
              "      <td>0.000000</td>\n",
              "      <td>0.000000</td>\n",
              "      <td>0.000000</td>\n",
              "      <td>0.000000</td>\n",
              "      <td>0.000000</td>\n",
              "      <td>0.000000</td>\n",
              "      <td>0.000000</td>\n",
              "      <td>0.000000</td>\n",
              "      <td>0.000000</td>\n",
              "      <td>0.000000</td>\n",
              "      <td>0.000000</td>\n",
              "      <td>0.000000</td>\n",
              "      <td>0.000000</td>\n",
              "      <td>0.000000</td>\n",
              "      <td>0.000000</td>\n",
              "      <td>0.000000</td>\n",
              "      <td>0.000000</td>\n",
              "      <td>0.000000</td>\n",
              "      <td>0.000000</td>\n",
              "      <td>0.000000</td>\n",
              "      <td>0.000000</td>\n",
              "      <td>0.000000</td>\n",
              "      <td>0.000000</td>\n",
              "      <td>0.000000</td>\n",
              "      <td>0.000000</td>\n",
              "      <td>0.000000</td>\n",
              "      <td>0.000000</td>\n",
              "      <td>0.000000</td>\n",
              "      <td>0.000000</td>\n",
              "      <td>0.000000</td>\n",
              "      <td>0.000000</td>\n",
              "      <td>...</td>\n",
              "      <td>0.000000</td>\n",
              "      <td>0.000000</td>\n",
              "      <td>0.000000</td>\n",
              "      <td>0.000000</td>\n",
              "      <td>0.000000</td>\n",
              "      <td>0.000000</td>\n",
              "      <td>0.000000</td>\n",
              "      <td>0.000000</td>\n",
              "      <td>0.000000</td>\n",
              "      <td>0.000000</td>\n",
              "      <td>0.000000</td>\n",
              "      <td>0.000000</td>\n",
              "      <td>0.000000</td>\n",
              "      <td>0.000000</td>\n",
              "      <td>0.000000</td>\n",
              "      <td>0.000000</td>\n",
              "      <td>0.000000</td>\n",
              "      <td>0.000000</td>\n",
              "      <td>0.000000</td>\n",
              "      <td>0.000000</td>\n",
              "      <td>0.000000</td>\n",
              "      <td>0.000000</td>\n",
              "      <td>0.000000</td>\n",
              "      <td>0.000000</td>\n",
              "      <td>0.000000</td>\n",
              "      <td>0.000000</td>\n",
              "      <td>0.000000</td>\n",
              "      <td>0.000000</td>\n",
              "      <td>0.000000</td>\n",
              "      <td>0.000000</td>\n",
              "      <td>0.000000</td>\n",
              "      <td>0.000000</td>\n",
              "      <td>0.000000</td>\n",
              "      <td>0.000000</td>\n",
              "      <td>0.000000</td>\n",
              "      <td>0.000000</td>\n",
              "      <td>0.000000</td>\n",
              "      <td>14.711883</td>\n",
              "      <td>23.980898</td>\n",
              "      <td>26.196158</td>\n",
              "    </tr>\n",
              "    <tr>\n",
              "      <th>2005-02-25 12:37:00</th>\n",
              "      <td>0.0</td>\n",
              "      <td>0.000000</td>\n",
              "      <td>0.000000</td>\n",
              "      <td>0.000000</td>\n",
              "      <td>0.000000</td>\n",
              "      <td>0.000000</td>\n",
              "      <td>0.000000</td>\n",
              "      <td>0.000000</td>\n",
              "      <td>0.000000</td>\n",
              "      <td>0.000000</td>\n",
              "      <td>0.000000</td>\n",
              "      <td>0.000000</td>\n",
              "      <td>0.000000</td>\n",
              "      <td>0.000000</td>\n",
              "      <td>0.000000</td>\n",
              "      <td>0.000000</td>\n",
              "      <td>0.000000</td>\n",
              "      <td>0.000000</td>\n",
              "      <td>0.000000</td>\n",
              "      <td>0.000000</td>\n",
              "      <td>0.000000</td>\n",
              "      <td>0.000000</td>\n",
              "      <td>0.000000</td>\n",
              "      <td>0.000000</td>\n",
              "      <td>0.000000</td>\n",
              "      <td>0.000000</td>\n",
              "      <td>0.000000</td>\n",
              "      <td>0.000000</td>\n",
              "      <td>0.000000</td>\n",
              "      <td>0.000000</td>\n",
              "      <td>0.000000</td>\n",
              "      <td>0.000000</td>\n",
              "      <td>0.000000</td>\n",
              "      <td>0.000000</td>\n",
              "      <td>0.000000</td>\n",
              "      <td>0.000000</td>\n",
              "      <td>0.000000</td>\n",
              "      <td>0.000000</td>\n",
              "      <td>0.000000</td>\n",
              "      <td>0.000000</td>\n",
              "      <td>...</td>\n",
              "      <td>0.000000</td>\n",
              "      <td>0.000000</td>\n",
              "      <td>0.000000</td>\n",
              "      <td>0.000000</td>\n",
              "      <td>0.000000</td>\n",
              "      <td>0.000000</td>\n",
              "      <td>0.000000</td>\n",
              "      <td>0.000000</td>\n",
              "      <td>0.000000</td>\n",
              "      <td>0.000000</td>\n",
              "      <td>0.000000</td>\n",
              "      <td>0.000000</td>\n",
              "      <td>0.000000</td>\n",
              "      <td>0.000000</td>\n",
              "      <td>0.000000</td>\n",
              "      <td>0.000000</td>\n",
              "      <td>0.000000</td>\n",
              "      <td>0.000000</td>\n",
              "      <td>0.000000</td>\n",
              "      <td>0.000000</td>\n",
              "      <td>0.000000</td>\n",
              "      <td>0.000000</td>\n",
              "      <td>0.000000</td>\n",
              "      <td>0.000000</td>\n",
              "      <td>0.000000</td>\n",
              "      <td>0.000000</td>\n",
              "      <td>0.000000</td>\n",
              "      <td>0.000000</td>\n",
              "      <td>0.000000</td>\n",
              "      <td>0.000000</td>\n",
              "      <td>0.000000</td>\n",
              "      <td>0.000000</td>\n",
              "      <td>0.000000</td>\n",
              "      <td>0.000000</td>\n",
              "      <td>0.000000</td>\n",
              "      <td>0.000000</td>\n",
              "      <td>0.000000</td>\n",
              "      <td>0.000000</td>\n",
              "      <td>9.269015</td>\n",
              "      <td>11.484275</td>\n",
              "    </tr>\n",
              "    <tr>\n",
              "      <th>2005-02-25 12:38:00</th>\n",
              "      <td>0.0</td>\n",
              "      <td>0.000000</td>\n",
              "      <td>0.000000</td>\n",
              "      <td>0.000000</td>\n",
              "      <td>0.000000</td>\n",
              "      <td>0.000000</td>\n",
              "      <td>0.000000</td>\n",
              "      <td>0.000000</td>\n",
              "      <td>0.000000</td>\n",
              "      <td>0.000000</td>\n",
              "      <td>0.000000</td>\n",
              "      <td>0.000000</td>\n",
              "      <td>0.000000</td>\n",
              "      <td>0.000000</td>\n",
              "      <td>0.000000</td>\n",
              "      <td>0.000000</td>\n",
              "      <td>0.000000</td>\n",
              "      <td>0.000000</td>\n",
              "      <td>0.000000</td>\n",
              "      <td>0.000000</td>\n",
              "      <td>0.000000</td>\n",
              "      <td>0.000000</td>\n",
              "      <td>0.000000</td>\n",
              "      <td>0.000000</td>\n",
              "      <td>0.000000</td>\n",
              "      <td>0.000000</td>\n",
              "      <td>0.000000</td>\n",
              "      <td>0.000000</td>\n",
              "      <td>0.000000</td>\n",
              "      <td>0.000000</td>\n",
              "      <td>0.000000</td>\n",
              "      <td>0.000000</td>\n",
              "      <td>0.000000</td>\n",
              "      <td>0.000000</td>\n",
              "      <td>0.000000</td>\n",
              "      <td>0.000000</td>\n",
              "      <td>0.000000</td>\n",
              "      <td>0.000000</td>\n",
              "      <td>0.000000</td>\n",
              "      <td>0.000000</td>\n",
              "      <td>...</td>\n",
              "      <td>0.000000</td>\n",
              "      <td>0.000000</td>\n",
              "      <td>0.000000</td>\n",
              "      <td>0.000000</td>\n",
              "      <td>0.000000</td>\n",
              "      <td>0.000000</td>\n",
              "      <td>0.000000</td>\n",
              "      <td>0.000000</td>\n",
              "      <td>0.000000</td>\n",
              "      <td>0.000000</td>\n",
              "      <td>0.000000</td>\n",
              "      <td>0.000000</td>\n",
              "      <td>0.000000</td>\n",
              "      <td>0.000000</td>\n",
              "      <td>0.000000</td>\n",
              "      <td>0.000000</td>\n",
              "      <td>0.000000</td>\n",
              "      <td>0.000000</td>\n",
              "      <td>0.000000</td>\n",
              "      <td>0.000000</td>\n",
              "      <td>0.000000</td>\n",
              "      <td>0.000000</td>\n",
              "      <td>0.000000</td>\n",
              "      <td>0.000000</td>\n",
              "      <td>0.000000</td>\n",
              "      <td>0.000000</td>\n",
              "      <td>0.000000</td>\n",
              "      <td>0.000000</td>\n",
              "      <td>0.000000</td>\n",
              "      <td>0.000000</td>\n",
              "      <td>0.000000</td>\n",
              "      <td>0.000000</td>\n",
              "      <td>0.000000</td>\n",
              "      <td>0.000000</td>\n",
              "      <td>0.000000</td>\n",
              "      <td>0.000000</td>\n",
              "      <td>0.000000</td>\n",
              "      <td>0.000000</td>\n",
              "      <td>0.000000</td>\n",
              "      <td>2.215261</td>\n",
              "    </tr>\n",
              "    <tr>\n",
              "      <th>2005-02-25 12:39:00</th>\n",
              "      <td>0.0</td>\n",
              "      <td>0.000000</td>\n",
              "      <td>0.000000</td>\n",
              "      <td>0.000000</td>\n",
              "      <td>0.000000</td>\n",
              "      <td>0.000000</td>\n",
              "      <td>0.000000</td>\n",
              "      <td>0.000000</td>\n",
              "      <td>0.000000</td>\n",
              "      <td>0.000000</td>\n",
              "      <td>0.000000</td>\n",
              "      <td>0.000000</td>\n",
              "      <td>0.000000</td>\n",
              "      <td>0.000000</td>\n",
              "      <td>0.000000</td>\n",
              "      <td>0.000000</td>\n",
              "      <td>0.000000</td>\n",
              "      <td>0.000000</td>\n",
              "      <td>0.000000</td>\n",
              "      <td>0.000000</td>\n",
              "      <td>0.000000</td>\n",
              "      <td>0.000000</td>\n",
              "      <td>0.000000</td>\n",
              "      <td>0.000000</td>\n",
              "      <td>0.000000</td>\n",
              "      <td>0.000000</td>\n",
              "      <td>0.000000</td>\n",
              "      <td>0.000000</td>\n",
              "      <td>0.000000</td>\n",
              "      <td>0.000000</td>\n",
              "      <td>0.000000</td>\n",
              "      <td>0.000000</td>\n",
              "      <td>0.000000</td>\n",
              "      <td>0.000000</td>\n",
              "      <td>0.000000</td>\n",
              "      <td>0.000000</td>\n",
              "      <td>0.000000</td>\n",
              "      <td>0.000000</td>\n",
              "      <td>0.000000</td>\n",
              "      <td>0.000000</td>\n",
              "      <td>...</td>\n",
              "      <td>0.000000</td>\n",
              "      <td>0.000000</td>\n",
              "      <td>0.000000</td>\n",
              "      <td>0.000000</td>\n",
              "      <td>0.000000</td>\n",
              "      <td>0.000000</td>\n",
              "      <td>0.000000</td>\n",
              "      <td>0.000000</td>\n",
              "      <td>0.000000</td>\n",
              "      <td>0.000000</td>\n",
              "      <td>0.000000</td>\n",
              "      <td>0.000000</td>\n",
              "      <td>0.000000</td>\n",
              "      <td>0.000000</td>\n",
              "      <td>0.000000</td>\n",
              "      <td>0.000000</td>\n",
              "      <td>0.000000</td>\n",
              "      <td>0.000000</td>\n",
              "      <td>0.000000</td>\n",
              "      <td>0.000000</td>\n",
              "      <td>0.000000</td>\n",
              "      <td>0.000000</td>\n",
              "      <td>0.000000</td>\n",
              "      <td>0.000000</td>\n",
              "      <td>0.000000</td>\n",
              "      <td>0.000000</td>\n",
              "      <td>0.000000</td>\n",
              "      <td>0.000000</td>\n",
              "      <td>0.000000</td>\n",
              "      <td>0.000000</td>\n",
              "      <td>0.000000</td>\n",
              "      <td>0.000000</td>\n",
              "      <td>0.000000</td>\n",
              "      <td>0.000000</td>\n",
              "      <td>0.000000</td>\n",
              "      <td>0.000000</td>\n",
              "      <td>0.000000</td>\n",
              "      <td>0.000000</td>\n",
              "      <td>0.000000</td>\n",
              "      <td>0.000000</td>\n",
              "    </tr>\n",
              "  </tbody>\n",
              "</table>\n",
              "<p>545 rows × 545 columns</p>\n",
              "</div>"
            ],
            "text/plain": [
              "timeStamp            2005-02-25 03:30:00  ...  2005-02-25 12:39:00\n",
              "timeStamp                                 ...                     \n",
              "2005-02-25 03:30:00                  0.0  ...          8234.056472\n",
              "2005-02-25 03:31:00                  0.0  ...          8196.292616\n",
              "2005-02-25 03:32:00                  0.0  ...          8164.406104\n",
              "2005-02-25 03:33:00                  0.0  ...          8141.295217\n",
              "2005-02-25 03:34:00                  0.0  ...          8124.697640\n",
              "...                                  ...  ...                  ...\n",
              "2005-02-25 12:35:00                  0.0  ...            29.874995\n",
              "2005-02-25 12:36:00                  0.0  ...            26.196158\n",
              "2005-02-25 12:37:00                  0.0  ...            11.484275\n",
              "2005-02-25 12:38:00                  0.0  ...             2.215261\n",
              "2005-02-25 12:39:00                  0.0  ...             0.000000\n",
              "\n",
              "[545 rows x 545 columns]"
            ]
          },
          "metadata": {
            "tags": []
          },
          "execution_count": 718
        }
      ]
    },
    {
      "cell_type": "markdown",
      "metadata": {
        "id": "ttJpGVNOpso3",
        "colab_type": "text"
      },
      "source": [
        "## 找两个采样点之间是否有盘旋和往返。\n",
        "通过比较两点之间的累计距离和直线距离，如果差异非常大，那么很有可能有盘旋和往返，这里rate是作为阈值，一般需要定义为数十倍，这里interval是时间间隔最小的距离，这样有利于提高计算性能，因为时间相邻的点之间不太可能有盘旋。"
      ]
    },
    {
      "cell_type": "code",
      "metadata": {
        "id": "nb5RIhzFYgj2",
        "colab_type": "code",
        "colab": {}
      },
      "source": [
        "def findHoverTrack(df,rate=0.8,interval = 10):\n",
        "  directMatrix = buildDirectDistanceMatrix(df)\n",
        "  cumDistanceMatric = buildcumDistanceMatric(directMatrix) * np.tri(*directMatrix.shape,-interval).T\n",
        "  k = (cumDistanceMatric - directMatrix)/directMatrix\n",
        "  v = k[k > rate ].unstack().dropna() #这段代码有空的时候还是值得研究的，将dataframe变成多索引的序列\n",
        "  vv = v.rename_axis(index=[\"endTimestamp\",\"startTimestamp\"]).reset_index().rename({0:\"diffdistancerat\"},axis=\"columns\")\n",
        "  return vv\n",
        "  "
      ],
      "execution_count": 725,
      "outputs": []
    },
    {
      "cell_type": "code",
      "metadata": {
        "id": "l2YEaW0xGZBh",
        "colab_type": "code",
        "colab": {
          "base_uri": "https://localhost:8080/",
          "height": 35
        },
        "outputId": "00f01cc1-e17f-4485-8c10-3c86cb46640f"
      },
      "source": [
        "h.shape"
      ],
      "execution_count": 724,
      "outputs": [
        {
          "output_type": "execute_result",
          "data": {
            "text/plain": [
              "(495, 495)"
            ]
          },
          "metadata": {
            "tags": []
          },
          "execution_count": 724
        }
      ]
    },
    {
      "cell_type": "markdown",
      "metadata": {
        "id": "Q7qTlvl-q1k9",
        "colab_type": "text"
      },
      "source": [
        "## 获取所有盘旋或折返的轨迹点\n",
        "这里代码写的我也不是很明白了，尽管是我写的\n",
        "最终的目的是希望产生这样的DataFrame\n",
        "startTimestamp endTimestamp timestamp lat,long\n",
        "其中startTimestamp,endTimestamp,timestamp是索引。"
      ]
    },
    {
      "cell_type": "code",
      "metadata": {
        "id": "RFGp2Y_RZmA6",
        "colab_type": "code",
        "colab": {}
      },
      "source": [
        "def extractAllHoverPoints(df,vv):\n",
        "  nn = df.set_index('timeStamp')\n",
        "  def func(x,df):\n",
        "    v = df.loc[x[\"startTimestampPlus\"]:x[\"endTimestampPlus\"],:]\n",
        "    v[\"LatLong\"] = v[[\"Lat\",\"Long\"]].values.tolist()\n",
        "    return v[[\"LatLong\"]].T.loc[\"LatLong\"]\n",
        "  vv[\"startTimestampPlus\"] = vv[\"startTimestamp\"]\n",
        "  vv[\"endTimestampPlus\"] = vv[\"endTimestamp\"]\n",
        "  vw = vv.set_index([\"startTimestamp\",\"endTimestamp\"])\n",
        "  vvv = vw.copy(deep=True)\n",
        "  vvvv=vw.apply(lambda x:func(x,nn),axis =1) ##下一行的dropna非常重要\n",
        "  return vvvv.unstack().unstack().dropna().to_frame(\"LatLong\").swaplevel(0, 1, axis=0).swaplevel(2, 1, axis=0).swaplevel(0, 1, axis=0).apply(lambda x:pd.Series(x[\"LatLong\"]),axis = 1).rename({0:\"Lat\",1:\"Long\"}, axis='columns')\n",
        "\n"
      ],
      "execution_count": 720,
      "outputs": []
    },
    {
      "cell_type": "code",
      "metadata": {
        "id": "iK19lQ1dXH5s",
        "colab_type": "code",
        "colab": {
          "base_uri": "https://localhost:8080/",
          "height": 52
        },
        "outputId": "a94e21f0-9089-4e69-9f70-1168202ced37"
      },
      "source": [
        "%time vv = findHoverTrack(afterCleanGlitchBySpeed,10,60)\n"
      ],
      "execution_count": 735,
      "outputs": [
        {
          "output_type": "stream",
          "text": [
            "CPU times: user 6.09 s, sys: 5.77 ms, total: 6.09 s\n",
            "Wall time: 6.1 s\n"
          ],
          "name": "stdout"
        }
      ]
    },
    {
      "cell_type": "code",
      "metadata": {
        "id": "CSbulUS_HN-N",
        "colab_type": "code",
        "colab": {
          "base_uri": "https://localhost:8080/",
          "height": 138
        },
        "outputId": "e344c0cb-7db9-4a69-e26b-b716ea457df6"
      },
      "source": [
        "vv"
      ],
      "execution_count": 736,
      "outputs": [
        {
          "output_type": "execute_result",
          "data": {
            "text/html": [
              "<div>\n",
              "<style scoped>\n",
              "    .dataframe tbody tr th:only-of-type {\n",
              "        vertical-align: middle;\n",
              "    }\n",
              "\n",
              "    .dataframe tbody tr th {\n",
              "        vertical-align: top;\n",
              "    }\n",
              "\n",
              "    .dataframe thead th {\n",
              "        text-align: right;\n",
              "    }\n",
              "</style>\n",
              "<table border=\"1\" class=\"dataframe\">\n",
              "  <thead>\n",
              "    <tr style=\"text-align: right;\">\n",
              "      <th></th>\n",
              "      <th>endTimestamp</th>\n",
              "      <th>startTimestamp</th>\n",
              "      <th>diffdistancerat</th>\n",
              "    </tr>\n",
              "  </thead>\n",
              "  <tbody>\n",
              "    <tr>\n",
              "      <th>0</th>\n",
              "      <td>2005-02-25 11:33:00</td>\n",
              "      <td>2005-02-25 10:33:00</td>\n",
              "      <td>10.6311</td>\n",
              "    </tr>\n",
              "    <tr>\n",
              "      <th>1</th>\n",
              "      <td>2005-02-25 11:34:00</td>\n",
              "      <td>2005-02-25 10:33:00</td>\n",
              "      <td>10.8124</td>\n",
              "    </tr>\n",
              "    <tr>\n",
              "      <th>2</th>\n",
              "      <td>2005-02-25 11:34:00</td>\n",
              "      <td>2005-02-25 10:34:00</td>\n",
              "      <td>11.7718</td>\n",
              "    </tr>\n",
              "  </tbody>\n",
              "</table>\n",
              "</div>"
            ],
            "text/plain": [
              "         endTimestamp      startTimestamp diffdistancerat\n",
              "0 2005-02-25 11:33:00 2005-02-25 10:33:00         10.6311\n",
              "1 2005-02-25 11:34:00 2005-02-25 10:33:00         10.8124\n",
              "2 2005-02-25 11:34:00 2005-02-25 10:34:00         11.7718"
            ]
          },
          "metadata": {
            "tags": []
          },
          "execution_count": 736
        }
      ]
    },
    {
      "cell_type": "markdown",
      "metadata": {
        "id": "fDMXNBkVIQS9",
        "colab_type": "text"
      },
      "source": [
        ""
      ]
    },
    {
      "cell_type": "code",
      "metadata": {
        "id": "j9MMPZHhiSkc",
        "colab_type": "code",
        "colab": {}
      },
      "source": [
        "extractAllHoverPoints(afterCleanGlitchBySpeed,vv)"
      ],
      "execution_count": null,
      "outputs": []
    },
    {
      "cell_type": "code",
      "metadata": {
        "id": "TCarIQF0bqBT",
        "colab_type": "code",
        "colab": {}
      },
      "source": [
        ""
      ],
      "execution_count": null,
      "outputs": []
    }
  ]
}